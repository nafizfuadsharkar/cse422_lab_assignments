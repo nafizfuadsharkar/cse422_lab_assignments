{
  "nbformat": 4,
  "nbformat_minor": 0,
  "metadata": {
    "colab": {
      "provenance": []
    },
    "kernelspec": {
      "name": "python3",
      "display_name": "Python 3"
    },
    "language_info": {
      "name": "python"
    }
  },
  "cells": [
    {
      "cell_type": "code",
      "execution_count": 4,
      "metadata": {
        "colab": {
          "base_uri": "https://localhost:8080/"
        },
        "id": "b1tYo_9gpY-X",
        "outputId": "004389ea-cadf-4804-ab20-70fc6f08c4b6"
      },
      "outputs": [
        {
          "output_type": "stream",
          "name": "stdout",
          "text": [
            "Start Node: Arad\n",
            "Destination: Bucharest\n",
            "Path: Arad -> Sibiu -> RimnicuVilcea -> Pitesti -> Bucharest\n",
            "Total Dstnc: 418 km\n"
          ]
        },
        {
          "output_type": "execute_result",
          "data": {
            "text/plain": [
              "['Arad', 'Sibiu', 'RimnicuVilcea', 'Pitesti', 'Bucharest']"
            ]
          },
          "metadata": {},
          "execution_count": 4
        }
      ],
      "source": [
        "#Assignment-1\n",
        "#Md Nafiz Fuad Sharkar\n",
        "#ID: 21301366\n",
        "\n",
        "inp = open(\"/content/inp.txt\")\n",
        "fileS = inp.readlines()\n",
        "Heurs = {}\n",
        "Grph = {}\n",
        "\n",
        "def grph(i):\n",
        "    if i in Grph:\n",
        "        return Grph[i]\n",
        "    else:\n",
        "        return None\n",
        "\n",
        "for i in range(len(fileS)):\n",
        "    fileS[i] = fileS[i][:len(fileS[i]) - 1]\n",
        "\n",
        "def aAlgo(strt, end):\n",
        "    tst1 = set()\n",
        "    tst1.add(strt)\n",
        "    tst2 = set()\n",
        "    pval = {}\n",
        "    cst = {}\n",
        "    cst[strt] = 0\n",
        "    pval[strt] = strt\n",
        "\n",
        "    while len(tst1) > 0:\n",
        "        upval = None\n",
        "\n",
        "        for i in tst1:\n",
        "            if upval is None or cst[i] + Heurs[i] < cst[upval] + Heurs[upval]:\n",
        "                upval = i\n",
        "        if upval == end or Grph[upval] == None:\n",
        "            pass\n",
        "        else:\n",
        "            for (nextval, Lod) in grph(upval):\n",
        "                if nextval not in tst1 and nextval not in tst2:\n",
        "                    tst1.add(nextval)\n",
        "                    pval[nextval] = upval\n",
        "                    cst[nextval] = cst[upval] + Lod\n",
        "                    Dstnc = cst[nextval]\n",
        "\n",
        "                else:\n",
        "                    if cst[nextval] > cst[upval] + Lod:\n",
        "                        cst[nextval] = cst[upval] + Lod\n",
        "                        pval[nextval] = upval\n",
        "\n",
        "                        if nextval in tst2:\n",
        "                            tst2.remove(nextval)\n",
        "                            tst1.add(nextval)\n",
        "                    Dstnc = cst[nextval]\n",
        "\n",
        "        if upval == None:\n",
        "            print('No path found')\n",
        "            return None\n",
        "        if upval == end:\n",
        "            tst = []\n",
        "\n",
        "            while pval[upval] != upval:\n",
        "                tst.append(upval)\n",
        "                upval = pval[upval]\n",
        "            tst.append(strt)\n",
        "            tst.reverse()\n",
        "\n",
        "            print(\"Path: \",end='')\n",
        "            print(*tst, sep=\" -> \")\n",
        "            print(\"Total Dstnc:\", Dstnc, \"km\")\n",
        "            return tst\n",
        "        tst1.remove(upval)\n",
        "        tst2.add(upval)\n",
        "\n",
        "    print('No path found')\n",
        "    return None\n",
        "\n",
        "for straightLine in fileS:\n",
        "    Role = straightLine.split(\" \")\n",
        "    Heurs[Role[0]] = int(Role[1])\n",
        "    Stre = Role[2:]\n",
        "    Stre2 = []\n",
        "    for i in range(0, len(Stre)-1, 2):\n",
        "        stre = (Stre[i], int(Stre[i + 1]))\n",
        "        Stre2.append(stre)\n",
        "    Grph[Role[0]] = Stre2\n",
        "\n",
        "N = list(Heurs)\n",
        "startNInp = input(\"Start Node: \")\n",
        "destNInput = input(\"Destination: \")\n",
        "aAlgo(startNInp, destNInput)\n",
        "\n",
        "\n"
      ]
    }
  ]
}