{
  "nbformat": 4,
  "nbformat_minor": 0,
  "metadata": {
    "colab": {
      "provenance": []
    },
    "kernelspec": {
      "name": "python3",
      "display_name": "Python 3"
    },
    "language_info": {
      "name": "python"
    }
  },
  "cells": [
    {
      "cell_type": "code",
      "execution_count": null,
      "metadata": {
        "colab": {
          "base_uri": "https://localhost:8080/"
        },
        "id": "U2qILHS-9xmx",
        "outputId": "71706571-80c0-4038-f0c0-77516e109bb0"
      },
      "outputs": [
        {
          "output_type": "stream",
          "name": "stdout",
          "text": [
            "Enter your ID please: 21301366\n",
            "Generated 8 random points between the minimum and maximum point limits: [99, 14, 15, 55, 25, 25, 40, 90]\n",
            "Total points to win: 66\n",
            "Achieved point by applying alpha-beta pruning = 55\n",
            "The winner is Megatron\n"
          ]
        }
      ],
      "source": [
        "# 1\n",
        "import math\n",
        "import random\n",
        "\n",
        "stdnt_ID = input(\"Enter your ID please: \")\n",
        "minimumVal = int(stdnt_ID[4])\n",
        "maximumVal = round(int(stdnt_ID[-2:][::-1]) * 1.5)\n",
        "ttlpnt = int(stdnt_ID[-2:][::-1])\n",
        "rndmP=[]\n",
        "\n",
        "for _ in range(8):\n",
        "    n = random.randint(minimumVal, maximumVal)\n",
        "    rndmP.append(n)\n",
        "\n",
        "alphaBase = float('-inf')\n",
        "betaBase = float('inf')\n",
        "\n",
        "def aBpruning(cur_Depth, curr_Idx, maximizing_Pl, noDev, alph, bet):\n",
        "    if cur_Depth == 3:\n",
        "        return noDev[curr_Idx]\n",
        "    if maximizing_Pl:\n",
        "        maximumVal = float('-inf')\n",
        "\n",
        "        for i in range(2):\n",
        "            clvd = aBpruning(cur_Depth + 1, curr_Idx * 2 + i, False, noDev, alph, bet)\n",
        "            maximumVal = max(maximumVal, clvd)\n",
        "            alph = max(alph, maximumVal)\n",
        "            if alph >= bet:\n",
        "                break\n",
        "        return maximumVal\n",
        "\n",
        "    else:\n",
        "        minimumVal = float('inf')\n",
        "\n",
        "        for i in range(2):\n",
        "            clvd = aBpruning(cur_Depth + 1, curr_Idx * 2 + i, True, noDev, alph, bet)\n",
        "            minimumVal = min(minimumVal, clvd)\n",
        "            bet = min(bet, minimumVal)\n",
        "\n",
        "            if alph >= bet:\n",
        "                break\n",
        "\n",
        "        return minimumVal\n",
        "\n",
        "reslt = aBpruning(0, 0, True, rndmP, alphaBase, betaBase)\n",
        "\n",
        "print(f\"Generated 8 random points between the minimum and maximum point limits: {rndmP}\")\n",
        "print(f\"Total points to win: {ttlpnt}\")\n",
        "print(f\"Achieved point by applying alpha-beta pruning = {reslt}\")\n",
        "\n",
        "if reslt >= ttlpnt:\n",
        "    print(f'The winner is Optimus Prime')\n",
        "\n",
        "else:\n",
        "    print(f'The winner is Megatron')\n",
        "\n",
        "\n"
      ]
    },
    {
      "cell_type": "code",
      "source": [
        "# 2\n",
        "def pacmanGme(c):\n",
        "    leafGNodes = [3, 6, 2, 3, 7, 1, 2, 0]\n",
        "    def mniMax(dpth, idex, maximzngPlyr, alpa, bta):\n",
        "        if dpth == 3:\n",
        "            return leafGNodes[idex]\n",
        "\n",
        "\n",
        "        if maximzngPlyr:\n",
        "            mxEval = float('-inf')\n",
        "            for i in range(2):\n",
        "                evl = mniMax(dpth + 1, idex * 2 + i, False, alpa, bta)\n",
        "                mxEval = max(mxEval, evl)\n",
        "\n",
        "                alpa = max(alpa, evl)\n",
        "                if bta <= alpa:\n",
        "                    break\n",
        "            return mxEval\n",
        "\n",
        "        else:\n",
        "            min_eval = float('inf')\n",
        "            for i in range(2):\n",
        "                evl = mniMax(dpth + 1, idex * 2 + i, True, alpa, bta)\n",
        "                min_eval = min(min_eval, evl)\n",
        "                bta = min(bta, evl)\n",
        "                if bta <= alpa:\n",
        "                    break\n",
        "            return min_eval\n",
        "\n",
        "    nrMlMnVal = mniMax(0, 0, True, float('-inf'), float('inf'))\n",
        "\n",
        "    lftsbtVal = max(leafGNodes[0:2])\n",
        "    rtSbVal = max(leafGNodes[4:6])\n",
        "\n",
        "\n",
        "    ltMgVal = lftsbtVal - c\n",
        "    rtMgVal = rtSbVal - c\n",
        "\n",
        "\n",
        "    if rtMgVal > ltMgVal:\n",
        "        print(f\"The new minimax value is {rtMgVal}. Pacman goes right and uses dark magic\")\n",
        "    else:\n",
        "        print(f\"The new minimax value is {ltMgVal}. Pacman goes left and uses dark magic\")\n",
        "    print(f\"The final minimax value without using dark magic is {nrMlMnVal}\")\n",
        "\n",
        "pacmanGme(int(input()))\n"
      ],
      "metadata": {
        "colab": {
          "base_uri": "https://localhost:8080/"
        },
        "id": "_mhoxAaVU75s",
        "outputId": "49a03b1c-09ad-4a3b-ef5f-ae2ed5b0bf9a"
      },
      "execution_count": 8,
      "outputs": [
        {
          "output_type": "stream",
          "name": "stdout",
          "text": [
            "2\n",
            "The new minimax value is 5. Pacman goes right and uses dark magic\n",
            "The final minimax value without using dark magic is 3\n"
          ]
        }
      ]
    }
  ]
}