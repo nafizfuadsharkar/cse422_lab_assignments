{
  "nbformat": 4,
  "nbformat_minor": 0,
  "metadata": {
    "colab": {
      "provenance": []
    },
    "kernelspec": {
      "name": "python3",
      "display_name": "Python 3"
    },
    "language_info": {
      "name": "python"
    }
  },
  "cells": [
    {
      "cell_type": "code",
      "execution_count": 3,
      "metadata": {
        "colab": {
          "base_uri": "https://localhost:8080/"
        },
        "id": "UmZ0pixVwecJ",
        "outputId": "d449d80e-0f7e-4b2d-969c-2bc5147c4d1d"
      },
      "outputs": [
        {
          "output_type": "stream",
          "name": "stdout",
          "text": [
            "001000110\n",
            "-1\n",
            "Parent 1: 110010101\n",
            "Parent 2: 110101110\n",
            "Offspring 1: 110010101\n",
            "Offspring 2: 110101110\n"
          ]
        }
      ],
      "source": [
        "import random\n",
        "inpFile = open(\"inp.txt\",\"r\")\n",
        "lin = inpFile.readline().split()\n",
        "N, T = int(lin[0]), int(lin[1])\n",
        "crss = []\n",
        "for i in range(N):\n",
        "    c = inpFile.readline().strip()\n",
        "    crss.append(c)\n",
        "def g_p(prntSize, N, T):\n",
        "    p = []\n",
        "    for i in range(prntSize):\n",
        "        chr = []\n",
        "        for j in range(N * T):\n",
        "            chr.append(random.randint(0, 1))\n",
        "        p.append(chr)\n",
        "    return p\n",
        "def ftness(chr, N, T):\n",
        "    pnltyOvrlp = 0\n",
        "    prntCon = 0\n",
        "    crsCount = [0] * N\n",
        "    tSCount = [0] * T\n",
        "\n",
        "    for t in range(T):\n",
        "        tSlot = chr[t * N:(t + 1) * N]\n",
        "        crsInSlot = tSlot.count(1)\n",
        "        if crsInSlot > 1:\n",
        "            pnltyOvrlp += (crsInSlot - 1)\n",
        "        tSCount[t] = crsInSlot\n",
        "\n",
        "    for i in range(N):\n",
        "        crsCount[i] = sum(chr[t * N + i] for t in range(T))\n",
        "\n",
        "    for count in crsCount:\n",
        "        if count != 1:\n",
        "            prntCon += abs(count - 1)\n",
        "\n",
        "    ftness = -(pnltyOvrlp + prntCon)\n",
        "    return ftness\n",
        "def selectPrnts(p, ftNss):\n",
        "    t_ftns = sum(ftNss)\n",
        "    slctnProbs = [f / t_ftns for f in ftNss]\n",
        "    prnts = random.choices(p, weights=slctnProbs, k=2)\n",
        "    return prnts\n",
        "def singlePointCrossOver(par1, prnt2, N, T):\n",
        "    crossoverPoints = sorted(random.sample(range(1, N * T), 2))\n",
        "    ofsprng1 = par1[:crossoverPoints[0]] + prnt2[crossoverPoints[0]:crossoverPoints[1]] + par1[crossoverPoints[1]:]\n",
        "    ofsprng2 = prnt2[:crossoverPoints[0]] + par1[crossoverPoints[0]:crossoverPoints[1]] + prnt2[crossoverPoints[1]:]\n",
        "    return ofsprng1, ofsprng2\n",
        "def mutate(chr, rate=0.01):\n",
        "    for i in range(len(chr)):\n",
        "        if random.random() < rate:\n",
        "            chr[i] = 1 - chr[i]\n",
        "    return chr\n",
        "def two_p_crossover(par1, prnt2, N, T):\n",
        "    crossover_point1, crossoverPoints2 = sorted(random.sample(range(1, N * T - 1), 2))\n",
        "    ofsprng1 = par1[:crossover_point1] + prnt2[crossover_point1:crossoverPoints2] + par1[crossoverPoints2:]\n",
        "    ofsprng2 = prnt2[:crossover_point1] + par1[crossover_point1:crossoverPoints2] + par2[crossoverPoints2:]\n",
        "    return ofsprng1, ofsprng2\n",
        "def genetic_algorithm(N, T,_ , prntSize=10, maxIterations=100):\n",
        "    p = g_p(prntSize, N, T)\n",
        "    bestCHr = None\n",
        "    bestFtns = float('-inf')\n",
        "\n",
        "    for gen in range(maxIterations):\n",
        "        ftNss = [ftness(chr, N, T) for chr in p]\n",
        "        for i in range(prntSize):\n",
        "            if ftNss[i] > bestFtns:\n",
        "                bestFtns = ftNss[i]\n",
        "                bestCHr = p[i]\n",
        "        pNew = []\n",
        "        while len(pNew) < prntSize:\n",
        "            par1, par2 = selectPrnts(p, ftNss)\n",
        "            ofsprng1, ofsprng2 = singlePointCrossOver(par1, par2, N, T)\n",
        "            pNew.append(mutate(ofsprng1))\n",
        "            pNew.append(mutate(ofsprng2))\n",
        "        p = pNew[:prntSize]\n",
        "    return bestCHr, bestFtns\n",
        "bestCHr, bestFtns = genetic_algorithm(N, T, crss)\n",
        "chr_str = ''.join(map(str, bestCHr))\n",
        "print(chr_str)\n",
        "print(bestFtns)\n",
        "prntSize =5\n",
        "p = g_p(prntSize, N, T)\n",
        "ftNss = [ftness(chr, N, T) for chr in p]\n",
        "par1, par2 = selectPrnts(p, ftNss)\n",
        "ofsprng1, ofsprng2 = two_p_crossover(par1, par2, N, T)\n",
        "\n",
        "labels = [\"Parent 1\", \"Parent 2\",\"Offspring 1\",\"Offspring 2\"]\n",
        "n = [par1, par2, ofsprng1, ofsprng2]\n",
        "\n",
        "for i in range(len(labels)):\n",
        "    individual_str = ''.join(str(gene) for gene in n[i])\n",
        "    print(f\"{labels [i]}: {individual_str}\")\n"
      ]
    }
  ]
}